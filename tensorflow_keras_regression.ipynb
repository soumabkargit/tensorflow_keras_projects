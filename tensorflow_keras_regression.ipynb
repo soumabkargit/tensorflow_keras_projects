{
  "nbformat": 4,
  "nbformat_minor": 0,
  "metadata": {
    "colab": {
      "name": "tensorflow_keras_regression.ipynb",
      "provenance": [],
      "authorship_tag": "ABX9TyNsvkSU+y4PjJdLfWFP8C+H",
      "include_colab_link": true
    },
    "kernelspec": {
      "name": "python3",
      "display_name": "Python 3"
    }
  },
  "cells": [
    {
      "cell_type": "markdown",
      "metadata": {
        "id": "view-in-github",
        "colab_type": "text"
      },
      "source": [
        "<a href=\"https://colab.research.google.com/github/soumabkargit/tensorflow_keras_projects/blob/master/tensorflow_keras_regression.ipynb\" target=\"_parent\"><img src=\"https://colab.research.google.com/assets/colab-badge.svg\" alt=\"Open In Colab\"/></a>"
      ]
    },
    {
      "cell_type": "code",
      "metadata": {
        "id": "browEqOi_SAa",
        "colab_type": "code",
        "colab": {}
      },
      "source": [
        "import pandas as pd\n",
        "import seaborn as sns\n",
        "import matplotlib.pyplot as plt\n",
        "from sklearn.model_selection import train_test_split\n",
        "from sklearn.preprocessing import MinMaxScaler\n",
        "import tensorflow as tf\n",
        "from tensorflow.keras.models import Sequential, load_model\n",
        "from tensorflow.keras.layers import Dense, Activation, Dropout\n",
        "from sklearn.metrics import mean_absolute_error,mean_squared_error\n",
        "from tensorflow.keras.callbacks import EarlyStopping"
      ],
      "execution_count": 0,
      "outputs": []
    },
    {
      "cell_type": "code",
      "metadata": {
        "id": "2jdVIeSK__gD",
        "colab_type": "code",
        "colab": {
          "base_uri": "https://localhost:8080/",
          "height": 202
        },
        "outputId": "5a2f51ba-089c-4b31-f64c-d25ff6cbb193"
      },
      "source": [
        "#Load the Data\n",
        "df = pd.read_csv('data/fake_reg.csv')\n",
        "df.head()"
      ],
      "execution_count": 18,
      "outputs": [
        {
          "output_type": "execute_result",
          "data": {
            "text/html": [
              "<div>\n",
              "<style scoped>\n",
              "    .dataframe tbody tr th:only-of-type {\n",
              "        vertical-align: middle;\n",
              "    }\n",
              "\n",
              "    .dataframe tbody tr th {\n",
              "        vertical-align: top;\n",
              "    }\n",
              "\n",
              "    .dataframe thead th {\n",
              "        text-align: right;\n",
              "    }\n",
              "</style>\n",
              "<table border=\"1\" class=\"dataframe\">\n",
              "  <thead>\n",
              "    <tr style=\"text-align: right;\">\n",
              "      <th></th>\n",
              "      <th>price</th>\n",
              "      <th>feature1</th>\n",
              "      <th>feature2</th>\n",
              "    </tr>\n",
              "  </thead>\n",
              "  <tbody>\n",
              "    <tr>\n",
              "      <th>0</th>\n",
              "      <td>461.527929</td>\n",
              "      <td>999.787558</td>\n",
              "      <td>999.766096</td>\n",
              "    </tr>\n",
              "    <tr>\n",
              "      <th>1</th>\n",
              "      <td>548.130011</td>\n",
              "      <td>998.861615</td>\n",
              "      <td>1001.042403</td>\n",
              "    </tr>\n",
              "    <tr>\n",
              "      <th>2</th>\n",
              "      <td>410.297162</td>\n",
              "      <td>1000.070267</td>\n",
              "      <td>998.844015</td>\n",
              "    </tr>\n",
              "    <tr>\n",
              "      <th>3</th>\n",
              "      <td>540.382220</td>\n",
              "      <td>999.952251</td>\n",
              "      <td>1000.440940</td>\n",
              "    </tr>\n",
              "    <tr>\n",
              "      <th>4</th>\n",
              "      <td>546.024553</td>\n",
              "      <td>1000.446011</td>\n",
              "      <td>1000.338531</td>\n",
              "    </tr>\n",
              "  </tbody>\n",
              "</table>\n",
              "</div>"
            ],
            "text/plain": [
              "        price     feature1     feature2\n",
              "0  461.527929   999.787558   999.766096\n",
              "1  548.130011   998.861615  1001.042403\n",
              "2  410.297162  1000.070267   998.844015\n",
              "3  540.382220   999.952251  1000.440940\n",
              "4  546.024553  1000.446011  1000.338531"
            ]
          },
          "metadata": {
            "tags": []
          },
          "execution_count": 18
        }
      ]
    },
    {
      "cell_type": "code",
      "metadata": {
        "id": "KkSBXURfAUsS",
        "colab_type": "code",
        "colab": {}
      },
      "source": [
        "#Data PreProcessing\n",
        "len(df)\n",
        "df.isnull().sum()\n",
        "df = df.dropna()"
      ],
      "execution_count": 0,
      "outputs": []
    },
    {
      "cell_type": "code",
      "metadata": {
        "id": "ZWAG1w-YBl_o",
        "colab_type": "code",
        "colab": {}
      },
      "source": [
        "# Convert Pandas to Numpy for Keras\n",
        "# Features\n",
        "X = df[['feature1','feature2']].values\n",
        "# Label\n",
        "y = df['price'].values"
      ],
      "execution_count": 0,
      "outputs": []
    },
    {
      "cell_type": "code",
      "metadata": {
        "id": "Wm9aBpKPBuad",
        "colab_type": "code",
        "colab": {
          "base_uri": "https://localhost:8080/",
          "height": 35
        },
        "outputId": "7ad8df35-a207-4902-8524-79b5f75908f2"
      },
      "source": [
        "# Split\n",
        "X_train, X_test, y_train, y_test = train_test_split(X,y,test_size=0.3,random_state=42)\n",
        "X_train.shape\n",
        "X_test.shape\n",
        "y_train.shape\n",
        "y_test.shape"
      ],
      "execution_count": 23,
      "outputs": [
        {
          "output_type": "execute_result",
          "data": {
            "text/plain": [
              "(300,)"
            ]
          },
          "metadata": {
            "tags": []
          },
          "execution_count": 23
        }
      ]
    },
    {
      "cell_type": "code",
      "metadata": {
        "id": "thtzB0guB0ZL",
        "colab_type": "code",
        "colab": {}
      },
      "source": [
        "#Normalizing/Scaling the Data\n",
        "scaler = MinMaxScaler()\n",
        "scaler.fit(X_train)\n",
        "X_train = scaler.transform(X_train)\n",
        "X_test = scaler.transform(X_test)"
      ],
      "execution_count": 0,
      "outputs": []
    },
    {
      "cell_type": "code",
      "metadata": {
        "id": "_boaIPNTCK_D",
        "colab_type": "code",
        "colab": {}
      },
      "source": [
        "#Creating a Model\n",
        "model = Sequential()\n",
        "model.add(Dense(4,activation='relu'))\n",
        "model.add(Dense(4,activation='relu'))\n",
        "model.add(Dropout(0.5))\n",
        "model.add(Dense(4,activation='relu'))\n",
        "\n",
        "# Final output node for prediction\n",
        "model.add(Dense(1))\n",
        "model.compile(optimizer='rmsprop',loss='mse')"
      ],
      "execution_count": 0,
      "outputs": []
    },
    {
      "cell_type": "code",
      "metadata": {
        "id": "zDnPl5zECaBL",
        "colab_type": "code",
        "colab": {
          "base_uri": "https://localhost:8080/",
          "height": 1000
        },
        "outputId": "3f5390cf-089f-410c-e4d0-235458d5af6c"
      },
      "source": [
        "#Training\n",
        "early_stop = EarlyStopping(monitor='val_loss', mode='min', verbose=1, patience=25)\n",
        "model.fit(x=X_train, \n",
        "          y=y_train, \n",
        "          epochs=600,\n",
        "          validation_data=(X_test, y_test), verbose=1,\n",
        "          callbacks=[early_stop]\n",
        "          )"
      ],
      "execution_count": 26,
      "outputs": [
        {
          "output_type": "stream",
          "text": [
            "Epoch 1/600\n",
            "22/22 [==============================] - 0s 3ms/step - loss: 51513.4609 - val_loss: 11582.0469\n",
            "Epoch 2/600\n",
            "22/22 [==============================] - 0s 3ms/step - loss: 47248.5156 - val_loss: 11661.1465\n",
            "Epoch 3/600\n",
            "22/22 [==============================] - 0s 3ms/step - loss: 47171.2188 - val_loss: 11511.1143\n",
            "Epoch 4/600\n",
            "22/22 [==============================] - 0s 3ms/step - loss: 46671.4648 - val_loss: 12649.0654\n",
            "Epoch 5/600\n",
            "22/22 [==============================] - 0s 9ms/step - loss: 46545.7969 - val_loss: 12336.8135\n",
            "Epoch 6/600\n",
            "22/22 [==============================] - 0s 3ms/step - loss: 50640.9102 - val_loss: 12524.4482\n",
            "Epoch 7/600\n",
            "22/22 [==============================] - 0s 3ms/step - loss: 48745.4336 - val_loss: 11908.0938\n",
            "Epoch 8/600\n",
            "22/22 [==============================] - 0s 3ms/step - loss: 48076.5391 - val_loss: 12433.4082\n",
            "Epoch 9/600\n",
            "22/22 [==============================] - 0s 3ms/step - loss: 51947.6680 - val_loss: 11838.5801\n",
            "Epoch 10/600\n",
            "22/22 [==============================] - 0s 3ms/step - loss: 51060.4609 - val_loss: 11629.4033\n",
            "Epoch 11/600\n",
            "22/22 [==============================] - 0s 3ms/step - loss: 47910.5156 - val_loss: 11599.7881\n",
            "Epoch 12/600\n",
            "22/22 [==============================] - 0s 3ms/step - loss: 45653.9727 - val_loss: 11747.5840\n",
            "Epoch 13/600\n",
            "22/22 [==============================] - 0s 3ms/step - loss: 50532.9258 - val_loss: 11783.0400\n",
            "Epoch 14/600\n",
            "22/22 [==============================] - 0s 3ms/step - loss: 48680.1602 - val_loss: 12715.6602\n",
            "Epoch 15/600\n",
            "22/22 [==============================] - 0s 3ms/step - loss: 51790.9141 - val_loss: 11853.1445\n",
            "Epoch 16/600\n",
            "22/22 [==============================] - 0s 4ms/step - loss: 46476.0664 - val_loss: 12003.2275\n",
            "Epoch 17/600\n",
            "22/22 [==============================] - 0s 3ms/step - loss: 48285.3320 - val_loss: 12127.0615\n",
            "Epoch 18/600\n",
            "22/22 [==============================] - 0s 3ms/step - loss: 46073.4727 - val_loss: 10912.5596\n",
            "Epoch 19/600\n",
            "22/22 [==============================] - 0s 4ms/step - loss: 45532.7500 - val_loss: 11191.9189\n",
            "Epoch 20/600\n",
            "22/22 [==============================] - 0s 3ms/step - loss: 51961.5469 - val_loss: 11283.2705\n",
            "Epoch 21/600\n",
            "22/22 [==============================] - 0s 3ms/step - loss: 44558.5430 - val_loss: 11084.6084\n",
            "Epoch 22/600\n",
            "22/22 [==============================] - 0s 4ms/step - loss: 50646.4336 - val_loss: 10815.2686\n",
            "Epoch 23/600\n",
            "22/22 [==============================] - 0s 3ms/step - loss: 48167.6758 - val_loss: 9406.1768\n",
            "Epoch 24/600\n",
            "22/22 [==============================] - 0s 3ms/step - loss: 52595.0391 - val_loss: 9784.1904\n",
            "Epoch 25/600\n",
            "22/22 [==============================] - 0s 3ms/step - loss: 45725.7812 - val_loss: 10183.5566\n",
            "Epoch 26/600\n",
            "22/22 [==============================] - 0s 3ms/step - loss: 48440.6914 - val_loss: 10668.5215\n",
            "Epoch 27/600\n",
            "22/22 [==============================] - 0s 3ms/step - loss: 53611.6133 - val_loss: 10303.2812\n",
            "Epoch 28/600\n",
            "22/22 [==============================] - 0s 3ms/step - loss: 46138.3945 - val_loss: 11692.3906\n",
            "Epoch 29/600\n",
            "22/22 [==============================] - 0s 4ms/step - loss: 48953.6562 - val_loss: 12540.3398\n",
            "Epoch 30/600\n",
            "22/22 [==============================] - 0s 4ms/step - loss: 49684.5195 - val_loss: 11882.0254\n",
            "Epoch 31/600\n",
            "22/22 [==============================] - 0s 4ms/step - loss: 51586.3867 - val_loss: 11302.2979\n",
            "Epoch 32/600\n",
            "22/22 [==============================] - 0s 4ms/step - loss: 46764.1992 - val_loss: 10368.6348\n",
            "Epoch 33/600\n",
            "22/22 [==============================] - 0s 4ms/step - loss: 49877.2969 - val_loss: 10840.0654\n",
            "Epoch 34/600\n",
            "22/22 [==============================] - 0s 3ms/step - loss: 50992.3125 - val_loss: 11087.8154\n",
            "Epoch 35/600\n",
            "22/22 [==============================] - 0s 4ms/step - loss: 45571.9336 - val_loss: 10743.7168\n",
            "Epoch 36/600\n",
            "22/22 [==============================] - 0s 3ms/step - loss: 46666.8594 - val_loss: 9990.2256\n",
            "Epoch 37/600\n",
            "22/22 [==============================] - 0s 3ms/step - loss: 52563.9766 - val_loss: 9468.3672\n",
            "Epoch 38/600\n",
            "22/22 [==============================] - 0s 4ms/step - loss: 51462.3125 - val_loss: 10244.8662\n",
            "Epoch 39/600\n",
            "22/22 [==============================] - 0s 3ms/step - loss: 48978.6641 - val_loss: 10344.2549\n",
            "Epoch 40/600\n",
            "22/22 [==============================] - 0s 4ms/step - loss: 48485.1016 - val_loss: 10345.7412\n",
            "Epoch 41/600\n",
            "22/22 [==============================] - 0s 3ms/step - loss: 48327.4727 - val_loss: 11425.4082\n",
            "Epoch 42/600\n",
            "22/22 [==============================] - 0s 3ms/step - loss: 45561.3633 - val_loss: 11961.9209\n",
            "Epoch 43/600\n",
            "22/22 [==============================] - 0s 3ms/step - loss: 45812.3984 - val_loss: 11903.5176\n",
            "Epoch 44/600\n",
            "22/22 [==============================] - 0s 3ms/step - loss: 48371.3867 - val_loss: 11658.0088\n",
            "Epoch 45/600\n",
            "22/22 [==============================] - 0s 3ms/step - loss: 46942.4961 - val_loss: 11601.2510\n",
            "Epoch 46/600\n",
            "22/22 [==============================] - 0s 3ms/step - loss: 42086.8906 - val_loss: 11472.5947\n",
            "Epoch 47/600\n",
            "22/22 [==============================] - 0s 3ms/step - loss: 48707.5039 - val_loss: 11021.3359\n",
            "Epoch 48/600\n",
            "22/22 [==============================] - 0s 3ms/step - loss: 51896.9141 - val_loss: 10766.5732\n",
            "Epoch 00048: early stopping\n"
          ],
          "name": "stdout"
        },
        {
          "output_type": "execute_result",
          "data": {
            "text/plain": [
              "<tensorflow.python.keras.callbacks.History at 0x7fc3fa133518>"
            ]
          },
          "metadata": {
            "tags": []
          },
          "execution_count": 26
        }
      ]
    },
    {
      "cell_type": "code",
      "metadata": {
        "id": "bC-cFMaIDLxR",
        "colab_type": "code",
        "colab": {
          "base_uri": "https://localhost:8080/",
          "height": 281
        },
        "outputId": "fae1660d-55f0-45bd-8093-eaac838fbd72"
      },
      "source": [
        "#Evaluation\n",
        "model.history.history\n",
        "loss = model.history.history['loss']\n",
        "sns.lineplot(x=range(len(loss)),y=loss)\n",
        "plt.title(\"Training Loss per Epoch\");"
      ],
      "execution_count": 27,
      "outputs": [
        {
          "output_type": "display_data",
          "data": {
            "image/png": "[encoded data removed]",
            "text/plain": [
              "<Figure size 432x288 with 1 Axes>"
            ]
          },
          "metadata": {
            "tags": [],
            "needs_background": "light"
          }
        }
      ]
    },
    {
      "cell_type": "code",
      "metadata": {
        "id": "JJHClrwaDY36",
        "colab_type": "code",
        "colab": {}
      },
      "source": [
        "#Compare final evaluation (MSE) on training set and test set.\n",
        "model.metrics_names\n",
        "training_score = model.evaluate(X_train,y_train,verbose=0)\n",
        "test_score = model.evaluate(X_test,y_test,verbose=0)\n",
        "training_score\n",
        "test_score\n",
        "test_predictions = model.predict(X_test)\n",
        "test_predictions\n",
        "pred_df = pd.DataFrame(y_test,columns=['Test Y'])\n",
        "pred_df\n",
        "test_predictions = pd.Series(test_predictions.reshape(300,))\n",
        "test_predictions\n",
        "pred_df = pd.concat([pred_df,test_predictions],axis=1)\n",
        "pred_df.columns = ['Test Y','Model Predictions']\n",
        "pred_df\n",
        "sns.scatterplot(x='Test Y',y='Model Predictions',data=pred_df)\n",
        "pred_df['Error'] = pred_df['Test Y'] - pred_df['Model Predictions']\n",
        "sns.distplot(pred_df['Error'],bins=50)\n",
        "mean_absolute_error(pred_df['Test Y'],pred_df['Model Predictions'])\n",
        "mean_squared_error(pred_df['Test Y'],pred_df['Model Predictions'])"
      ],
      "execution_count": 0,
      "outputs": []
    },
    {
      "cell_type": "code",
      "metadata": {
        "id": "2xnYdDwxDmpe",
        "colab_type": "code",
        "colab": {
          "base_uri": "https://localhost:8080/",
          "height": 35
        },
        "outputId": "2712e9be-8786-4f03-93c3-5362ba364e78"
      },
      "source": [
        "# Essentially the same thing, difference just due to precision\n",
        "test_score"
      ],
      "execution_count": 28,
      "outputs": [
        {
          "output_type": "execute_result",
          "data": {
            "text/plain": [
              "11582.337890625"
            ]
          },
          "metadata": {
            "tags": []
          },
          "execution_count": 28
        }
      ]
    },
    {
      "cell_type": "code",
      "metadata": {
        "id": "Cd9N5bfcDpCA",
        "colab_type": "code",
        "colab": {
          "base_uri": "https://localhost:8080/",
          "height": 35
        },
        "outputId": "8758917b-c254-4da8-81f9-5c002660b3ef"
      },
      "source": [
        "#RMSE\n",
        "test_score**0.5"
      ],
      "execution_count": 29,
      "outputs": [
        {
          "output_type": "execute_result",
          "data": {
            "text/plain": [
              "107.62127062353892"
            ]
          },
          "metadata": {
            "tags": []
          },
          "execution_count": 29
        }
      ]
    },
    {
      "cell_type": "code",
      "metadata": {
        "id": "Nt-URyQ1D2XT",
        "colab_type": "code",
        "colab": {
          "base_uri": "https://localhost:8080/",
          "height": 35
        },
        "outputId": "3b1682c5-64a3-4788-e7ba-0a4319ff7cf5"
      },
      "source": [
        "#Predicting on brand new data\n",
        "# [[Feature1, Feature2]]\n",
        "new_gem = [[998,1000]]\n",
        "# Don't forget to scale!\n",
        "scaler.transform(new_gem)\n",
        "new_gem = scaler.transform(new_gem)\n",
        "model.predict(new_gem)\n",
        "model.save('model/model_tf_keras_reg.h5')  # creates a HDF5 file 'my_model.h5'\n",
        "later_model = load_model('model/model_tf_keras_reg.h5')\n",
        "later_model.predict(new_gem)"
      ],
      "execution_count": 30,
      "outputs": [
        {
          "output_type": "execute_result",
          "data": {
            "text/plain": [
              "array([[417624.22]], dtype=float32)"
            ]
          },
          "metadata": {
            "tags": []
          },
          "execution_count": 30
        }
      ]
    }
  ]
}